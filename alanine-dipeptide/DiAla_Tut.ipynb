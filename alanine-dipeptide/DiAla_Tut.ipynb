{
 "cells": [
  {
   "cell_type": "markdown",
   "id": "c1c96a90",
   "metadata": {},
   "source": [
    "# Simple Simulation of Alanine Dipeptide\n",
    "Authors: Benjamin D. Madej & Ross Walker<br>\n",
    "Original Link: https://ambermd.org/tutorials/basic/tutorial0/index.php<br>\n",
    "Adapted by: Jeremy Leung<br>\n",
    "Email:&nbsp;&nbsp; jml230@pitt.edu\n"
   ]
  },
  {
   "cell_type": "markdown",
   "id": "f0a929ff",
   "metadata": {},
   "source": [
    "## Introduction\n",
    "\n",
    "This tutorial is designed to provide an introduction to molecular dynamics simulations with Amber. It is designed for AMBER 24 and for new users who want to learn about how to run molecular dynamics simulations with Amber. This notebook is designed with the assumption that you are working within a virtual environment on the H2P Cluster at Pitt.\n",
    "\n",
    "AMBER stands for Assisted Model Building and Energy Refinement. It refers not only to the molecular dynamics programs, but also a set of force fields that describe the potential energy function and parameters of the interactions of biomolecules.\n",
    "\n",
    "In order to run a Molecular Dynamics simulation in Amber, each molecule's interactions are described by a molecular force field. The force field has specific parameters defined for each molecule.\n",
    "\n",
    "<code>sander</code> is the basic MD engine of Amber. <code>pmemd</code> is the high performance implementation of the MD engine that contains a subset of features of <code>sander</code>. <code>pmemd</code> can also be run with acceleration from graphics processing units (GPU) through <code>pmemd.cuda</code> or the MPI parallel version <code>pmemd.mpi</code>.\n",
    "\n",
    "In order to run an MD simulation with sander or pmemd, three key files are needed:\n",
    "\n",
    "    parm7 - The file that describes the parameter and topology of the molecules in the system\n",
    "    rst7 - The file that describes the initial molecular coordinates of the system\n",
    "    mdin - The file that describes the settings for the Amber MD engine\n"
   ]
  },
  {
   "cell_type": "markdown",
   "id": "c8724bc7",
   "metadata": {},
   "source": [
    "## Learning Objectives\n",
    "\n",
    "- navigate the command line interface through terminal and tleap to prepare topology and coordinate files\n",
    "- understand the basics of forcefields and be able to load the FF19SB forcefield to be able to work with the alanine dipeptide\n",
    "- set up an explicit water simulation in tleap\n",
    "- perform basic equilibration\n",
    "- perform production run simulations at a given temperature\n",
    "- Visualize the results of production MD in <code>nglview</code>\n",
    "- Use <code>matplotlib</code> to plot MD thermodynamic data such as temperature, density, and energy\n",
    "- Use <code>mdtraj</code> to calculate the root mean square displacement (RMSD) of the trajectory relative to the initial structure\n",
    "\n"
   ]
  },
  {
   "cell_type": "markdown",
   "id": "bf50a0c5",
   "metadata": {},
   "source": [
    "## System Requirements\n",
    "- AmberTools24 is necessary to run this simulation.\n",
    "    - Note that it is already installed as a module on H2P\n",
    "- numpy, matplotlib, ipympyl, mdtraj, and nglview are used in this jupyter notebook. \n",
    "    - nglview, matplotlib, ipympl, and numpy are optional for visualization purposes.\n",
    "    - These are already installed as part of the virtual environment."
   ]
  },
  {
   "cell_type": "code",
   "execution_count": null,
   "id": "7f5c2488-d2b8-4845-8616-94672ce4332e",
   "metadata": {},
   "outputs": [
    {
     "name": "stdout",
     "output_type": "stream",
     "text": [
      "/bin/bash: module: command not found\n"
     ]
    }
   ],
   "source": [
    "!module load amber/24"
   ]
  },
  {
   "cell_type": "code",
   "execution_count": null,
   "id": "f4518f82-79b9-4370-b827-a2790402f2bc",
   "metadata": {},
   "outputs": [
    {
     "name": "stdout",
     "output_type": "stream",
     "text": [
      "-I: Adding /Users/RainbowIslands/miniconda3/envs/drug-design2025/dat/leap/prep to search path.\n",
      "-I: Adding /Users/RainbowIslands/miniconda3/envs/drug-design2025/dat/leap/lib to search path.\n",
      "-I: Adding /Users/RainbowIslands/miniconda3/envs/drug-design2025/dat/leap/parm to search path.\n",
      "-I: Adding /Users/RainbowIslands/miniconda3/envs/drug-design2025/dat/leap/cmd to search path.\n",
      "\n",
      "Welcome to LEaP!\n",
      "(no leaprc in search path)\n",
      "> "
     ]
    }
   ],
   "source": [
    "! cat << EOF\n",
    "source leaprc.protein.ff19SB\n",
    "diala = sequence { ACE ALA NME }source leaprc.water.opc\n",
    "solvateoct diala OPCBOX  10.0\n",
    "saveamberparm diala parm7 rst7\n",
    "EOF > build_diala.in\n",
    "\n"
   ]
  },
  {
   "cell_type": "markdown",
   "id": "2040b50b",
   "metadata": {},
   "source": [
    "## Running the Simulation"
   ]
  },
  {
   "cell_type": "markdown",
   "id": "afdaeaa7",
   "metadata": {},
   "source": [
    "The files to initialize and run the WESTPA simulation are included with this jupyter notebook for demonstration purposes. **It is <u>not</u> recommended that you run your WE simulations within a Jupyter Notebook.** The simulation will take a while to complete, so feel free to stop it at any stage. Sample completed files for analysis are provided in the `for_analysis/` directory and `w_crawl/` folder."
   ]
  },
  {
   "cell_type": "code",
   "execution_count": null,
   "id": "47706168",
   "metadata": {},
   "outputs": [],
   "source": [
    "import os\n",
    "import shutil\n",
    "# Clean up from previous/ failed simulations.\n",
    "for i in ['west.h5', 'seg_logs', 'traj_segs','istates','get_pcoord.log']:\n",
    "    try:\n",
    "        os.remove(i)\n",
    "    except OSError:\n",
    "        try:\n",
    "            shutil.rmtree(i)\n",
    "        except OSError:\n",
    "            pass\n",
    "        \n",
    "for i in ['seg_logs','traj_segs','istates']:\n",
    "    os.mkdir(i)"
   ]
  },
  {
   "cell_type": "code",
   "execution_count": null,
   "id": "34660779",
   "metadata": {
    "scrolled": true
   },
   "outputs": [],
   "source": [
    "import westpa\n",
    "import numpy\n",
    "from westpa.cli.core import w_init\n",
    "from argparse import Namespace\n",
    "\n",
    "# Initializing the System:\n",
    "# Set some parameters that WESTPA needs to set simulation state.\n",
    "args = Namespace(rcfile='west.cfg',\n",
    "                 verbosity='verbose', ## change to 'debug' if you want a more detailed view of what's happening\n",
    "                                      ## or 'verbose' for some information\n",
    "                                      ## or 'quiet' for no information at all. \n",
    "                 work_manager='threads')\n",
    "\n",
    "# Update westpa.rc with these\n",
    "westpa.rc.process_args(args)\n",
    "\n",
    "# Initialize the simulation using the tstate and bstate files\n",
    "w_init.initialize(tstates=None, bstates=None, \n",
    "                  tstate_file='tstate.file', bstate_file='bstates/bstates.txt', \n",
    "                  segs_per_state=5, shotgun=False)"
   ]
  },
  {
   "cell_type": "code",
   "execution_count": null,
   "id": "4950ffd7",
   "metadata": {
    "scrolled": true
   },
   "outputs": [],
   "source": [
    "import westpa\n",
    "import numpy\n",
    "from westpa.cli.core import w_run\n",
    "import westpa.work_managers as work_managers\n",
    "from argparse import Namespace\n",
    "\n",
    "# Running the Simulation.\n",
    "# Set some parameters that WESTPA needs to set simulation state.\n",
    "args = Namespace(rcfile = 'west.cfg',\n",
    "                 verbosity = \"verbose\",\n",
    "                 work_manager = 'threads')\n",
    "\n",
    "# Update westpa.rc with these\n",
    "westpa.rc.process_args(args)\n",
    "# Prepare work manager\n",
    "work_managers.environment.process_wm_args(args)\n",
    "\n",
    "# Launch the simulation\n",
    "w_run.run_simulation()"
   ]
  },
  {
   "cell_type": "markdown",
   "id": "326f5bd8",
   "metadata": {},
   "source": [
    "## Monitoring the WE Simulation"
   ]
  },
  {
   "cell_type": "markdown",
   "id": "82d2ae6a",
   "metadata": {},
   "source": [
    "The following sample code runs <code>w_pdist</code> and <code>plothist</code> to generate a probability distribution."
   ]
  },
  {
   "cell_type": "code",
   "execution_count": null,
   "id": "2755b014",
   "metadata": {
    "scrolled": true
   },
   "outputs": [],
   "source": [
    "import tarfile\n",
    "\n",
    "# Untar the files for analysis\n",
    "for file in ['./for_analysis/01.tar.gz']:\n",
    "    with tarfile.open(file) as tar_f:\n",
    "        tar_f.extractall('./for_analysis')"
   ]
  },
  {
   "cell_type": "code",
   "execution_count": null,
   "id": "059de79e",
   "metadata": {
    "scrolled": true
   },
   "outputs": [],
   "source": [
    "# Generate the pdist.h5\n",
    "print('running w_pdist...')\n",
    "!{'w_pdist -W ./for_analysis/01/west.h5'}\n",
    "print('Done!')"
   ]
  },
  {
   "cell_type": "code",
   "execution_count": null,
   "id": "416d87c1",
   "metadata": {},
   "outputs": [],
   "source": [
    "# Generate the average hist.pdf\n",
    "print('running plothist...')\n",
    "!{'plothist evolution -o evol.pdf pdist.h5'}\n",
    "print('Done!')"
   ]
  },
  {
   "cell_type": "code",
   "execution_count": null,
   "id": "4c619d8e",
   "metadata": {},
   "outputs": [],
   "source": [
    "# View the average probability distribution\n",
    "from IPython.display import IFrame, display\n",
    "filepath = \"evol.pdf\"\n",
    "IFrame(filepath, width=700, height=400)"
   ]
  },
  {
   "cell_type": "code",
   "execution_count": null,
   "id": "0c7713a2",
   "metadata": {},
   "outputs": [],
   "source": [
    "# Generate the average hist.pdf\n",
    "print('running plothist...')\n",
    "!{'plothist average -o avg.pdf pdist.h5 0'}\n",
    "print('Done!')"
   ]
  },
  {
   "cell_type": "code",
   "execution_count": null,
   "id": "5f035a90",
   "metadata": {},
   "outputs": [],
   "source": [
    "# View the average probability distribution\n",
    "from IPython.display import IFrame, display\n",
    "filepath = \"avg.pdf\"\n",
    "IFrame(filepath, width=700, height=400)"
   ]
  },
  {
   "cell_type": "markdown",
   "id": "38662555",
   "metadata": {},
   "source": [
    "## Analyzing the WE Simulation"
   ]
  },
  {
   "cell_type": "markdown",
   "id": "24abecae",
   "metadata": {},
   "source": [
    "### Visualization of the System"
   ]
  },
  {
   "cell_type": "markdown",
   "id": "98fe3e75",
   "metadata": {},
   "source": [
    "We will now take a look at how one of the basis states looks like. The water box is omitted for visibility. Na<sup>+</sup> is red and Cl<sup>-</sup> is blue in the representation."
   ]
  },
  {
   "cell_type": "code",
   "execution_count": null,
   "id": "cc8af4db",
   "metadata": {
    "scrolled": true
   },
   "outputs": [],
   "source": [
    "import mdtraj\n",
    "import nglview\n",
    "system = mdtraj.load('bstates/01/basis.xml', top='common_files/bstate.pdb')\n",
    "Na = list(range(0,1)) # Na+ is the first atom\n",
    "Cl = list(range(1,2)) # Cl- is the second atom\n",
    "both = Na + Cl # Na+ + Cl-\n",
    "system = system.atom_slice(both)\n",
    "view = nglview.show_mdtraj(system)\n",
    "view.representations = [\n",
    "    {\"type\": \"ball+stick\", \"params\": {\n",
    "        \"sele\": \".Na+\", \"color\": \"red\"\n",
    "    }},\n",
    "    {\"type\": \"ball+stick\", \"params\": {\n",
    "        \"sele\": \".Cl-\", \"color\": \"blue\"\n",
    "    }}\n",
    "]\n",
    "view.background = 'white'\n",
    "view"
   ]
  },
  {
   "cell_type": "markdown",
   "id": "d35f3e48",
   "metadata": {},
   "source": [
    "### Visualization of Coverage of the Start States"
   ]
  },
  {
   "cell_type": "markdown",
   "id": "07278179",
   "metadata": {},
   "source": [
    "The following cells plots the multiple start states in a way that allows us to examine  their spacial coverage. The first cell visualizes the system one-by-one after alignment to Na<sup>+</sup>. The second cell plots all the center-of-masses at once. In some frames, Cl<sup>-</sup> might not be visible unless you move the camera.\n",
    "\n",
    "Do note that many lines are not necessary for Na<sup>+</sup>/Cl</sup>-</sup> as it is spherically symmetrical, and that its center of mass is equal to its coordinate. Extra code is provided so it could be generalized to larger systems."
   ]
  },
  {
   "cell_type": "code",
   "execution_count": null,
   "id": "6bd51296",
   "metadata": {},
   "outputs": [],
   "source": [
    "import numpy\n",
    "import mdtraj\n",
    "import nglview\n",
    "lst = numpy.loadtxt('bstates/bstates.txt', usecols=2, dtype=str) # Reading basis state names\n",
    "tpg = 'common_files/bstate.pdb' # Topology File for basis state (Shared between all bstates)\n",
    "lst = [x + \"/basis.xml\" for x in lst] # Change path to point to file name\n",
    "\n",
    "# Reading reference and setup\n",
    "# There might be some warnings about unconverged rotation matrices because of the system's rotational symmetry\n",
    "\n",
    "com = [] # list containing all CoM\n",
    "a = mdtraj.load('bstates/01/basis.xml', top=tpg) # Load the first\n",
    "a_slice = a.atom_slice([0,1]) # Just Na+\n",
    "com.append(numpy.squeeze(mdtraj.compute_center_of_mass(a_slice))) # Save CoM of Na+\n",
    "a_slice = a.atom_slice([0,1]) # Both Na+/Cl-\n",
    "\n",
    "# Loading and superposing, storing Center of Mass (CoM) to list for heatmap\n",
    "c = a_slice\n",
    "for i in lst:\n",
    "    b = mdtraj.load('bstates/' + i, top=tpg)\n",
    "    b = b.atom_slice([0,1])\n",
    "    b.superpose(a_slice, atom_indices=[0])\n",
    "    c = mdtraj.join([c,b], check_topology=False)\n",
    "    # Just saving the CoM of Cl-, since Na+ is superimposed\n",
    "    com.append(numpy.squeeze(mdtraj.compute_center_of_mass(b.atom_slice([1]))))\n",
    "com = numpy.asarray(com)\n",
    "\n",
    "# Now displaying it, note that Cl- is not visible in some frames unless you rotate the camera\n",
    "view2 = nglview.show_mdtraj(c)\n",
    "view2.representations = [\n",
    "    {\"type\": \"ball+stick\", \"params\": {\n",
    "        \"sele\": \".Na+\", \"color\": \"red\"\n",
    "    }},\n",
    "    {\"type\": \"ball+stick\", \"params\": {\n",
    "        \"sele\": \".Cl-\", \"color\": \"blue\"\n",
    "    }}\n",
    "]\n",
    "view2.center('.Na+')\n",
    "view2.control.zoom(-1.75)\n",
    "view2"
   ]
  },
  {
   "cell_type": "code",
   "execution_count": null,
   "id": "9458604b",
   "metadata": {},
   "outputs": [],
   "source": [
    "# Looking at the coverage of the sstates, assuming you ran the previous cell\n",
    "# Comment out the next line or install ipypml if you have trouble viewing.\n",
    "%matplotlib widget \n",
    "import matplotlib\n",
    "from mpl_toolkits.mplot3d import Axes3D\n",
    "from pylab import *\n",
    "import numpy\n",
    "\n",
    "fig = matplotlib.pyplot.figure(figsize=(7,7))\n",
    "ax = fig.add_subplot(111, projection='3d')\n",
    "\n",
    "img1 = ax.scatter(com[0,0], com[0,1], com[0,2], s=20, marker='s', color='Red', label='Na+')\n",
    "img2 = ax.scatter(com[1:,0], com[1:,1], com[1:,2], s=50, marker='.', color='Blue', label='Cl-')\n",
    "\n",
    "# Labels and Titles\n",
    "ax.set_title(\"Basis State Structures Coverage\")\n",
    "ax.set_xlabel('x-axis')\n",
    "ax.set_ylabel('y-axis')\n",
    "ax.set_zlabel('z-axis')\n",
    "ax.legend()\n",
    "\n",
    "show()"
   ]
  },
  {
   "cell_type": "markdown",
   "id": "335833b8",
   "metadata": {},
   "source": [
    "Due to the rotational symmetry, it might be better to look at the Na<sup>+</sup>/Cl<sup>-</sup> atom-to-atom distances instead, which are already precalculated in each pcoord.init file."
   ]
  },
  {
   "cell_type": "code",
   "execution_count": null,
   "id": "42216ec4",
   "metadata": {},
   "outputs": [],
   "source": [
    "import numpy\n",
    "import matplotlib\n",
    "import matplotlib.pyplot as plt\n",
    "lst = numpy.loadtxt('bstates/bstates.txt', usecols=2, dtype=str) # Reading basis state names\n",
    "lst2 = [\"bstates/\" + x + \"/pcoord.init\" for x in lst] # Change path to point to file name\n",
    "\n",
    "values = numpy.asarray([numpy.loadtxt(x) for x in lst2])\n",
    "\n",
    "fig2 = matplotlib.pyplot.figure(figsize=(7,7))\n",
    "ax2 = fig2.subplots()\n",
    "\n",
    "img3 = ax2.scatter(0, 0, color='Red', label='Na+')\n",
    "img4 = ax2.scatter(values[:], numpy.zeros(values.shape[0]), color='Blue', label='Cl-')\n",
    "img5 = ax2.axvline(x=2.6, ymin=0, ymax=1, label='Bound State', linestyle='--')\n",
    "\n",
    "# Labels and Titles\n",
    "ax2.set_title(\"Basis States Structures Coverage (Atom-to-Atom Distances)\")\n",
    "ax2.set_xlabel('Na+ to Cl- distance ($\\mathrm{\\AA}$)')\n",
    "ax2.set_ylabel('y-axis')\n",
    "ax2.legend()\n",
    "plt.xlim(-1,23)\n",
    "\n",
    "plt.show()"
   ]
  },
  {
   "cell_type": "markdown",
   "id": "2e85ee3d",
   "metadata": {},
   "source": [
    "### Calculating Rates"
   ]
  },
  {
   "cell_type": "code",
   "execution_count": null,
   "id": "2e57bf3d",
   "metadata": {},
   "outputs": [],
   "source": [
    "import tarfile\n",
    "from os import symlink\n",
    "\n",
    "# Untar the files for analysis.\n",
    "for file in ['./for_analysis/01.tar.gz']:\n",
    "    with tarfile.open(file) as tar_f:\n",
    "        tar_f.extractall('./for_analysis')\n",
    "try:\n",
    "    symlink('./for_analysis/01/west.h5', './west.h5')\n",
    "except FileExistsError:\n",
    "    print('A different west.h5 exists in the basic_nacl/. Either delete it or rename it to continue.')"
   ]
  },
  {
   "cell_type": "code",
   "execution_count": null,
   "id": "7995fc8f",
   "metadata": {},
   "outputs": [],
   "source": [
    "from westpa.cli.tools import w_ipa\n",
    "import westpa\n",
    "\n",
    "w = w_ipa.WIPI()\n",
    "w.main()\n",
    "w.interface = 'matplotlib'"
   ]
  },
  {
   "cell_type": "markdown",
   "id": "6dad5346",
   "metadata": {},
   "source": [
    "## Managing Your Simulations"
   ]
  },
  {
   "cell_type": "markdown",
   "id": "8cbf7a96",
   "metadata": {},
   "source": [
    "### Combining Multiple Simulation Runs"
   ]
  },
  {
   "cell_type": "markdown",
   "id": "2fba0809",
   "metadata": {},
   "source": [
    "The following sample code runs <code>w_multi_west</code> to concatenate two runs."
   ]
  },
  {
   "cell_type": "code",
   "execution_count": null,
   "id": "4f493ed0",
   "metadata": {
    "scrolled": true
   },
   "outputs": [],
   "source": [
    "import tarfile\n",
    "\n",
    "# Untar the files\n",
    "for file in ['./for_analysis/01.tar.gz','./for_analysis/02.tar.gz']:\n",
    "    with tarfile.open(file) as tar_f:\n",
    "        tar_f.extractall('./for_analysis')"
   ]
  },
  {
   "cell_type": "code",
   "execution_count": null,
   "id": "c314a692",
   "metadata": {
    "scrolled": true
   },
   "outputs": [],
   "source": [
    "# Run w_multi_west in the commandline\n",
    "!{'w_multi_west -m ./for_analysis/ -n 2'}\n",
    "print('Done!')"
   ]
  },
  {
   "cell_type": "code",
   "execution_count": null,
   "id": "a77f27a3",
   "metadata": {},
   "outputs": [],
   "source": [
    "# Check to see if the multi.h5 file exists\n",
    "from os.path import exists\n",
    "exists('multi.h5')"
   ]
  },
  {
   "cell_type": "markdown",
   "id": "b9294d90",
   "metadata": {},
   "source": [
    "### Using <code>w_crawl</code> to calculate post-simulation auxiliary data"
   ]
  },
  {
   "cell_type": "markdown",
   "id": "fc2438e9",
   "metadata": {},
   "source": [
    "The following sample code runs <code>w_crawl</code> to calculate additional observables post-simulation."
   ]
  },
  {
   "cell_type": "code",
   "execution_count": null,
   "id": "609387ec",
   "metadata": {
    "scrolled": true
   },
   "outputs": [],
   "source": [
    "import os\n",
    "os.chdir('w_crawl')\n",
    "# Run w_crawl in the commandline\n",
    "!{'./run_w_crawl.sh'}\n",
    "os.chdir('../')\n",
    "print('Done!')"
   ]
  },
  {
   "cell_type": "code",
   "execution_count": null,
   "id": "c9273ac4",
   "metadata": {},
   "outputs": [],
   "source": [
    "# Check to see if the example.h5 file exists\n",
    "from os.path import exists\n",
    "exists('./w_crawl/crawl.h5')"
   ]
  },
  {
   "cell_type": "markdown",
   "id": "36591d9c",
   "metadata": {},
   "source": [
    "## Cleaning Up"
   ]
  },
  {
   "cell_type": "code",
   "execution_count": null,
   "id": "0f12e4c1",
   "metadata": {},
   "outputs": [],
   "source": [
    "# Run the following bash script to revert your tutorial folder to pristine condition.\n",
    "!{'./1.clean.sh'}"
   ]
  }
 ],
 "metadata": {
  "kernelspec": {
   "display_name": "Python 3 (ipykernel)",
   "language": "python",
   "name": "python3"
  },
  "language_info": {
   "codemirror_mode": {
    "name": "ipython",
    "version": 3
   },
   "file_extension": ".py",
   "mimetype": "text/x-python",
   "name": "python",
   "nbconvert_exporter": "python",
   "pygments_lexer": "ipython3",
   "version": "3.12.8"
  }
 },
 "nbformat": 4,
 "nbformat_minor": 5
}
