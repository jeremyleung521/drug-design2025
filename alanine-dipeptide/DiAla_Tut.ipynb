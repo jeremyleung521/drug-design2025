{
 "cells": [
  {
   "cell_type": "markdown",
   "id": "c1c96a90",
   "metadata": {},
   "source": [
    "# Simple Simulation of Alanine Dipeptide\n",
    "Authors: Benjamin D. Madej & Ross Walker<br>\n",
    "Original Link: https://ambermd.org/tutorials/basic/tutorial0/index.php<br>\n",
    "Adapted by: Jeremy Leung<br>\n",
    "Email:&nbsp;&nbsp; jml230@pitt.edu\n"
   ]
  },
  {
   "cell_type": "markdown",
   "id": "18a49c8e-c666-4282-97e2-cade76a1b445",
   "metadata": {},
   "source": [
    "## Setup"
   ]
  },
  {
   "cell_type": "markdown",
   "id": "92fb4edc-5af2-463c-8bc1-ccba2a2ab11e",
   "metadata": {},
   "source": [
    "Welcome! This notebook is made with the assumption that you're working on `jupyter.crc.pitt.edu` and have setup your virtual environments using https://github.com/jeremyleung521/h2p-quickstart/tree/drug-design2025. If not, following the steps in \"[Setting up the virtual environment](#Setting-up-the-virtual-environment)\" section.\n",
    "\n",
    "To start, make sure it says `drug-design2025` on the top right hand corner! If it doesn't, click on `Python 3 (ipykernel)` (Or whatever it currently is) and select `drug-design2025` from the drop down menu as your preferred kernel. Click Select.\n",
    "\n",
    "![image](./img/Notebook-kernel.png)"
   ]
  },
  {
   "cell_type": "markdown",
   "id": "859f3419-e3a9-48a2-a0ea-ebab73dd1a2f",
   "metadata": {
    "jp-MarkdownHeadingCollapsed": true
   },
   "source": [
    "### Setting up the virtual environment"
   ]
  },
  {
   "cell_type": "markdown",
   "id": "8828991c-3639-4989-8a33-cffc8374d4f5",
   "metadata": {},
   "source": [
    "1. Start a terminal (Should be an option in the \"Launcher\" tab)\n",
    "2. run `cd ~`\n",
    "3. run `git clone https://github.com/jeremyleung521/h2p-quickstart -b drug-design2025`\n",
    "4. run `cd h2p-quickstart`\n",
    "5. run `bash run_bash.sh` then wait. It might take a short while.\n",
    "6. run `bash activate_env.sh`\n"
   ]
  },
  {
   "cell_type": "markdown",
   "id": "c8724bc7",
   "metadata": {},
   "source": [
    "## Learning Objectives\n",
    "\n",
    "- navigate the command line interface through terminal and `tleap` to prepare topology and coordinate files\n",
    "- understand the basics of force fields and be able to load the FF19SB force field to be able to work with the alanine dipeptide\n",
    "- set up an explicit water simulation in tleap\n",
    "- perform basic equilibration\n",
    "- perform production run simulations at a given temperature\n",
    "- Visualize the results of production MD in <code>nglview</code>\n",
    "- Use <code>matplotlib</code> to plot MD thermodynamic data such as temperature, density, and energy\n",
    "- Use <code>mdtraj</code> to calculate the root mean square displacement (RMSD) of the trajectory relative to the initial structure\n",
    "\n"
   ]
  },
  {
   "cell_type": "markdown",
   "id": "bf50a0c5",
   "metadata": {},
   "source": [
    "## System Requirements\n",
    "- AmberTools24 is necessary to run this simulation.\n",
    "    - Note that it is already installed as a module on H2P\n",
    "- numpy, matplotlib, ipympyl, mdtraj, and nglview are used in this jupyter notebook. \n",
    "    - nglview, matplotlib, ipympl, and numpy are optional for visualization purposes.\n",
    "    - These are already installed as part of the virtual environment."
   ]
  },
  {
   "cell_type": "markdown",
   "id": "76368d70-66bf-4058-b423-1b716b1cecb7",
   "metadata": {},
   "source": [
    "## Introduction"
   ]
  },
  {
   "cell_type": "markdown",
   "id": "f0a929ff",
   "metadata": {
    "jp-MarkdownHeadingCollapsed": true
   },
   "source": [
    "This tutorial is designed to provide an introduction to molecular dynamics simulations with Amber. It is designed for AMBER 24 and for new users who want to learn about how to run molecular dynamics simulations with Amber. This notebook is designed with the assumption that you are working within a virtual environment on the H2P Cluster at Pitt.\n",
    "\n",
    "AMBER stands for Assisted Model Building and Energy Refinement. It refers not only to the molecular dynamics programs, but also a set of force fields that describe the potential energy function and parameters of the interactions of biomolecules.\n",
    "\n",
    "In order to run a Molecular Dynamics simulation in Amber, each molecule's interactions are described by a molecular force field. The force field has specific parameters defined for each molecule.\n",
    "\n",
    "<code>sander</code> is the basic MD engine of Amber. <code>pmemd</code> is the high performance implementation of the MD engine that contains a subset of features of <code>sander</code>. <code>pmemd</code> can also be run with acceleration from graphics processing units (GPU) through <code>pmemd.cuda</code> or the MPI parallel version <code>pmemd.mpi</code>.\n",
    "\n",
    "In order to run an MD simulation with sander or pmemd, three key files are needed:\n",
    "\n",
    "    parm7 - The file that describes the parameter and topology of the molecules in the system\n",
    "    rst7 - The file that describes the initial molecular coordinates of the system\n",
    "    mdin - The file that describes the settings for the Amber MD engine\n"
   ]
  },
  {
   "cell_type": "markdown",
   "id": "b8374867-c72d-4f01-aae9-d045ef7958ab",
   "metadata": {
    "jp-MarkdownHeadingCollapsed": true
   },
   "source": [
    "## 1. Building the Simulation System (Alanine Dipeptide)"
   ]
  },
  {
   "cell_type": "markdown",
   "id": "382d9889-f688-45a8-9651-ed5a2bb28157",
   "metadata": {},
   "source": [
    "We will now begin to build the solvated alanine dipeptide from scratch using a program called `tleap`.\n",
    "\n",
    "The first line of the following cell is a jupyter notebook \"magic command\" to export the next lines of the cell into a file called <code>build_diala.in</code>. The rest are commands telling <code>tleap</code> to generate a solvated alanine dipeptide. Expand the next section if you would like to know what each line means!"
   ]
  },
  {
   "cell_type": "markdown",
   "id": "af82e881-e5be-4c99-a4b0-752d41de6fa9",
   "metadata": {},
   "source": [
    "We can build an alanine dipeptide as an alanine amino acid capped with an acetyl group on the N-terminus and N-methylamide on the C-terminus. After we loaded the force field ff19SB, tLEaP now has these \"units\" available to build into a molecule. The sequence command will create a new unit from the available units and connect them together."
   ]
  },
  {
   "cell_type": "code",
   "execution_count": 1,
   "id": "f4518f82-79b9-4370-b827-a2790402f2bc",
   "metadata": {},
   "outputs": [
    {
     "name": "stdout",
     "output_type": "stream",
     "text": [
      "Overwriting build_diala.in\n"
     ]
    }
   ],
   "source": [
    "%%writefile tleap.in  \n",
    "source leaprc.protein.ff19SB  \n",
    "source leaprc.water.opc\n",
    "diala = sequence { ACE ALA NME } \n",
    "solvateoct diala OPCBOX 10.0\n",
    "saveamberparm diala diala.parm7 diala.rst7\n",
    "quit"
   ]
  },
  {
   "cell_type": "markdown",
   "id": "c0740d8e-fb5c-49e5-9528-483f23cdef3c",
   "metadata": {
    "jp-MarkdownHeadingCollapsed": true
   },
   "source": [
    "### Explaining each step"
   ]
  },
  {
   "cell_type": "markdown",
   "id": "113162b2-491b-4fab-97ef-477e2b44b309",
   "metadata": {},
   "source": [
    "#### Load a protein force field"
   ]
  },
  {
   "cell_type": "markdown",
   "id": "322f711b-5834-4bd3-97ce-d19ffadfeb1f",
   "metadata": {},
   "source": [
    "A force field is the Hamiltonian (potential energy function) and the related parameters that describe the intra- and intermolecular interactions between the molecules in the system. In MD, the Hamiltonian is integrated to describe the forces and velocities of the molecules (See [Allen and Tildesley](https://global.oup.com/academic/product/computer-simulation-of-liquids-9780198803201?cc=us&lang=en&#)).\n",
    "\n",
    "The basic form of the Amber force field is:\n",
    "\n",
    "![image](./img/Amber_Hamiltonian.png)\n",
    "In order to run a molecular dynamics simulation, we need to load a force field to describe the potential energy of alanine dipeptide. We will use the AMBER force field FF19SB1for proteins. To learn more about force fields, please look through section 3.1.1 on page 34 of the [Amber 2024 Manual](https://ambermd.org/doc12/Amber24.pdf#page=34). \n",
    "\n",
    "- The first two `source` lines load in force field parameters(for the Amber ff19SB force field and OPC 3-point water model parameters, respectively).\n",
    "```\n",
    "source leaprc.protein.ff19SB  \n",
    "source leaprc.water.opc\n",
    "```"
   ]
  },
  {
   "cell_type": "markdown",
   "id": "896a94fc-b743-4fea-affe-d5b8d35c6975",
   "metadata": {},
   "source": [
    "#### Build alanine dipeptide\n"
   ]
  },
  {
   "cell_type": "markdown",
   "id": "b39e6696-b806-4d53-b1cb-26270f6e9959",
   "metadata": {},
   "source": [
    "We can build an alanine dipeptide as an alanine amino acid capped with an acetyl group on the N-terminus and N-methylamide on the C-terminus. After we loaded the force field ff19SB, tLEaP now has these \"units\" available to build into a molecule. The sequence command will create a new unit from the available units and connect them together.\n",
    "\n",
    "- We will use sequence to create a new unit called diala out of the ACE, ALA, and NME units.  ACE, ALA and NME stands for {acetyl group, alanine, N-methyl amide}, respectively. Note that when you connect the acetyl group with the N-methyl amide you get an alanine residue!\n",
    "\n",
    "```\n",
    "diala = sequence { ACE ALA NME }\n",
    "```"
   ]
  },
  {
   "cell_type": "markdown",
   "id": "ef28c360-14b9-4bc9-8f6d-24e2f0740611",
   "metadata": {},
   "source": [
    "#### Solvate alanine dipeptide"
   ]
  },
  {
   "cell_type": "markdown",
   "id": "363286ba-cd5e-416b-9f92-1e7c9aceacd1",
   "metadata": {},
   "source": [
    "The next step to prepare this alanine dipeptide system is to solvate the molecule with explicit water molecules. There are many water models available for MD simulations. In this simulation we will add OPC water molecules2 to the system. The ff19SB force field gives the best performance with the OPC water model and is strongly recommended (see page 36 of the Amber 2020 Manual). To learn more about the OPC water model, please look at section 3.5.1 on pages 53 and 54 of the Amber 2020 Manual.\n",
    "\n",
    "In this type of simulation, the system has periodic boundary conditions, meaning that molecules that exit one side of the system will wrap to the other side of the system. It is important that the periodic box is large enough, i.e. there is enough water surrounding alanine dipeptide, so that the alanine dipeptide molecule does not interact with its periodic images.\n",
    "\n",
    "- Solvating the alanine dipeptide into a cubic water box with at least 10 Å clearance to the edge of the box. OPCBOX specifies the type of specifies the type of water box to solvate the solute (diala). The 10.0 indicates that the molecule should have a buffer of at least 10 Angstroms between alanine dipeptide and the periodic box wall.   \n",
    "```\n",
    "solvateoct diala OPCBOX  10.0\n",
    "```"
   ]
  },
  {
   "cell_type": "markdown",
   "id": "69aae96f-6b3f-4bf3-9b69-b13877244b05",
   "metadata": {},
   "source": [
    "#### Save the Amber parm7 and rst7 input files"
   ]
  },
  {
   "cell_type": "markdown",
   "id": "24a0e37e-1c42-4781-bb8d-b69cfb27acbd",
   "metadata": {},
   "source": [
    "Now we will save the parm7 and rst7 files to the current working directory. The parm7 topology file defines which atoms are bonded to each other and the rst7 coordinate file defines where each atom is located on a 3-dimensional coordinate plane. The unit diala now contains the alanine dipeptide molecule, water molecules, and the periodic box information necessary for simulation. The parameters will be assigned from the ff19SB force field. \n",
    "\n",
    "\n",
    "- Export the peptide into a paramter file `parm7` and a coordinate file `rst7`.\n",
    "```\n",
    "saveamberparm diala parm7 rst7\n",
    "```"
   ]
  },
  {
   "cell_type": "markdown",
   "id": "0120acdb-eef6-46b9-82f2-1e8d9afebe77",
   "metadata": {},
   "source": [
    "#### Quit tLEaP"
   ]
  },
  {
   "cell_type": "markdown",
   "id": "d6f5c4e3-8efe-43cf-987b-8e88376eae30",
   "metadata": {},
   "source": [
    "Exit from the `tleap` program at the end\n",
    "```\n",
    "quit\n",
    "```"
   ]
  },
  {
   "cell_type": "markdown",
   "id": "6e39748e-3b24-4610-ae70-5a15a3067d0f",
   "metadata": {
    "jp-MarkdownHeadingCollapsed": true
   },
   "source": [
    "### Running `tleap`"
   ]
  },
  {
   "cell_type": "markdown",
   "id": "d91b2d3f-d078-4310-88e9-bb4fcbc213ff",
   "metadata": {},
   "source": [
    "Run `tleap` with the following line. The first half loads in the Amber24 module from the H2P cluster. The second half (`tleap ...`) is the actually command we will run.\n",
    "\n",
    "If you see the following lines at the end of the output, you've successfully built the system!\n",
    "```\n",
    "Exiting LEaP: Errors = 0; Warnings = 0; Notes = 1.\n",
    "```"
   ]
  },
  {
   "cell_type": "code",
   "execution_count": 9,
   "id": "8d939b2d-6b84-4e4a-ba5d-a7c48e56dd08",
   "metadata": {
    "scrolled": true
   },
   "outputs": [
    {
     "name": "stdout",
     "output_type": "stream",
     "text": [
      "Warning: When compiling code please add the following flags to nvcc:\n",
      "         -gencode arch=compute_61,code=[compute_61,sm_61] \n",
      "         -gencode arch=compute_70,code=[compute_70,sm_70] \n",
      "         -gencode arch=compute_89,code=[compute_89,sm_89] \n",
      "If running on TEACH cluster:         -arch=sm_52 \n",
      "Warning: When compiling code please add the following flags to nvcc:\n",
      "         -gencode arch=compute_61,code=[compute_61,sm_61] \n",
      "         -gencode arch=compute_70,code=[compute_70,sm_70] \n",
      "         -gencode arch=compute_89,code=[compute_89,sm_89] \n",
      "If running on TEACH cluster:         -arch=sm_52 \n",
      "-I: Adding /ihome/crc/install/amber/amber24/amber24/dat/leap/prep to search path.\n",
      "-I: Adding /ihome/crc/install/amber/amber24/amber24/dat/leap/lib to search path.\n",
      "-I: Adding /ihome/crc/install/amber/amber24/amber24/dat/leap/parm to search path.\n",
      "-I: Adding /ihome/crc/install/amber/amber24/amber24/dat/leap/cmd to search path.\n",
      "-f: Source build_diala.in.\n",
      "\n",
      "Welcome to LEaP!\n",
      "(no leaprc in search path)\n",
      "Sourcing: ./build_diala.in\n",
      "----- Source: /ihome/crc/install/amber/amber24/amber24/dat/leap/cmd/leaprc.protein.ff19SB\n",
      "----- Source of /ihome/crc/install/amber/amber24/amber24/dat/leap/cmd/leaprc.protein.ff19SB done\n",
      "Log file: ./leap.log\n",
      "Loading parameters: /ihome/crc/install/amber/amber24/amber24/dat/leap/parm/parm19.dat\n",
      "Reading title:\n",
      "PARM99 + frcmod.ff99SB + frcmod.parmbsc0 + OL3 for RNA + ff19SB\n",
      "Loading parameters: /ihome/crc/install/amber/amber24/amber24/dat/leap/parm/frcmod.ff19SB\n",
      "Reading force field modification type file (frcmod)\n",
      "Reading title:\n",
      "ff19SB AA-specific backbone CMAPs for protein 07/25/2019\n",
      "Loading library: /ihome/crc/install/amber/amber24/amber24/dat/leap/lib/amino19.lib\n",
      "Loading library: /ihome/crc/install/amber/amber24/amber24/dat/leap/lib/aminoct12.lib\n",
      "Loading library: /ihome/crc/install/amber/amber24/amber24/dat/leap/lib/aminont12.lib\n",
      "----- Source: /ihome/crc/install/amber/amber24/amber24/dat/leap/cmd/leaprc.water.opc\n",
      "----- Source of /ihome/crc/install/amber/amber24/amber24/dat/leap/cmd/leaprc.water.opc done\n",
      "Loading library: /ihome/crc/install/amber/amber24/amber24/dat/leap/lib/atomic_ions.lib\n",
      "Loading library: /ihome/crc/install/amber/amber24/amber24/dat/leap/lib/solvents.lib\n",
      "Loading parameters: /ihome/crc/install/amber/amber24/amber24/dat/leap/parm/frcmod.opc\n",
      "Reading force field modification type file (frcmod)\n",
      "Reading title:\n",
      "Parameters for OPC water (JPCL, 2014, 5 (21), pp 3863-3871)\n",
      "Loading parameters: /ihome/crc/install/amber/amber24/amber24/dat/leap/parm/frcmod.ionslm_126_opc\n",
      "Reading force field modification type file (frcmod)\n",
      "Reading title:\n",
      "Li/Merz ion parameters of atomic ions for the OPC water model (12-6 set)\n",
      "Scaling up box by a factor of 1.223419 to meet diagonal cut criterion\n",
      "  Solute vdw bounding box:              7.063 11.676 5.818\n",
      "  Total bounding box for atom centers:  36.144 36.144 36.144\n",
      "      (box expansion for 'iso' is  36.8%)\n",
      "  Solvent unit box:                     18.865 18.478 19.006\n",
      "  Volume: 25623.505 A^3 (oct)\n",
      "  Total mass 12737.360 amu,  Density 0.825 g/cc\n",
      "  Added 699 residues.\n",
      "Checking Unit.\n",
      "\n",
      "/ihome/crc/install/amber/amber24/amber24/bin/teLeap: Note.\n",
      "Ignoring the warnings from Unit Checking.\n",
      "\n",
      "Building topology.\n",
      "Building atom parameters.\n",
      "Building bond parameters.\n",
      "Building angle parameters.\n",
      "Building proper torsion parameters.\n",
      "Building improper torsion parameters.\n",
      " total 4 improper torsions applied\n",
      "Building H-Bond parameters.\n",
      "Incorporating Non-Bonded adjustments.\n",
      "Not Marking per-residue atom chain types.\n",
      "Marking per-residue atom chain types.\n",
      " (no restraints)\n",
      "\tQuit\n",
      "\n",
      "Exiting LEaP: Errors = 0; Warnings = 0; Notes = 1.\n"
     ]
    }
   ],
   "source": [
    "!module load gcc/10.2.0 openmpi/4.1.1 amber/24 &&\\\n",
    "tleap -f build_diala.in "
   ]
  },
  {
   "cell_type": "markdown",
   "id": "1fcbbd6e-e552-43dc-a48b-068349f6ae2c",
   "metadata": {
    "jp-MarkdownHeadingCollapsed": true
   },
   "source": [
    "## 2. Prepare Amber MD input files"
   ]
  },
  {
   "cell_type": "markdown",
   "id": "360e8759-e109-434b-a796-9e0009ddcea1",
   "metadata": {},
   "source": [
    "The last components needed are the input files that define the program settings for each MD run. For this system, we will perform an energy minimization on the system, then slowly heat the system, and then do production MD at the desired temperature and pressure. `Sander` will be used for minimization and heating and `pmemd` will be used for the actual production run. To learn more about sander and pmemd, please refer to the Amber 2024 Manual.\n",
    "\n",
    "1. Minimization\n",
    "1. Heating with constant volume and temperature (NVT) for 20 ps from 0 K to 300 K\n",
    "1. Production MD with constant pressure and temperature (NPT) at 300 K and 1 atm for 60 ps\n",
    "\n",
    "We will save the trajectory and write to the output file every 2 ps. The Langevin thermostat will be used to control the temperature. The random number generator will be initialized with a random seed.\n",
    "\n",
    "To control all these settings, we will write a simple input file in a text editor. Unix has many text editors available, but we will use the one built into Jupyter Lab.\n",
    "\n",
    "The following cell will create the file. You may open (and edit) the file by double clicking it in the file browser to the left. Edit it to your liking (and press `Cmd/Ctrl+s` to save)\n"
   ]
  },
  {
   "cell_type": "markdown",
   "id": "d828a2cd-d972-4cb5-a3d2-a6f70f5bec15",
   "metadata": {},
   "source": [
    "### Minimization input"
   ]
  },
  {
   "cell_type": "code",
   "execution_count": 6,
   "id": "18429cf0-8393-434b-9acf-879665b1231c",
   "metadata": {},
   "outputs": [
    {
     "name": "stdout",
     "output_type": "stream",
     "text": [
      "Overwriting 01_Min.in\n"
     ]
    }
   ],
   "source": [
    "%%writefile 01_Min.in  \n",
    "Minimize\n",
    " &cntrl\n",
    "  imin=1,\n",
    "  ntx=1,\n",
    "  irest=0,\n",
    "  maxcyc=2000,\n",
    "  ncyc=1000,\n",
    "  ntpr=100,\n",
    "  ntwx=0,\n",
    "  cut=8.0,\n",
    " /"
   ]
  },
  {
   "cell_type": "markdown",
   "id": "98aa7495-07a1-403d-8f14-160eead536e9",
   "metadata": {},
   "source": [
    "The settings can be summarized as follows:\n",
    "```\n",
    "imin=1         Choose a minimization run\n",
    "ntx=1          Read coordinates but not velocities from ASCII formatted rst7 coordinate file\n",
    "irest=0        Do not restart simulation. (not applicable to minimization)\n",
    "maxcyc=2000    Maximum minimization cycles\n",
    "ncyc=1000      The steepest descent algorithm for the first 0-ncyc cycles, then switches the conjugate gradient algorithm for ncyc-maxcyc cycles\n",
    "ntpr=100       Print to the Amber mdout output file every ntpr cycles\n",
    "ntwx=0         No Amber mdcrd trajectory file written (not applicable to minimization)\n",
    "cut=8.0        Nonbonded cutoff distance in Angstroms (for PME, limit of the direct space sum - do NOT reduce this below 8.0. Higher numbers give slightly better accuracy but at vastly increased computational cost.)\n",
    "```\n",
    "\n",
    "For more information on minimization, please take a look at the General minimization and dynamics parameters section on page 387 of the [Amber 2024 Manual]((https://ambermd.org/doc12/Amber24.pdf#page=387))."
   ]
  },
  {
   "cell_type": "markdown",
   "id": "d9ce5d8e-cbc0-44b4-adfe-2fdf3383f4b0",
   "metadata": {},
   "source": [
    "### Heating input"
   ]
  },
  {
   "cell_type": "code",
   "execution_count": 5,
   "id": "b1aa52ce-3988-4bf5-86e9-352543115c06",
   "metadata": {},
   "outputs": [
    {
     "name": "stdout",
     "output_type": "stream",
     "text": [
      "Writing 02_Heat.in\n"
     ]
    }
   ],
   "source": [
    "%%writefile 02_Heat.in  \n",
    "Heat\n",
    " &cntrl\n",
    "  imin=0,\n",
    "  ntx=1,\n",
    "  irest=0,\n",
    "  nstlim=10000,\n",
    "  dt=0.002,\n",
    "  ntf=2,\n",
    "  ntc=2,\n",
    "  tempi=0.0,\n",
    "  temp0=300.0,\n",
    "  ntpr=100,\n",
    "  ntwx=100,\n",
    "  cut=8.0,\n",
    "  ntb=1,\n",
    "  ntp=0,\n",
    "  ntt=3,\n",
    "  gamma_ln=2.0,\n",
    "  nmropt=1,\n",
    "  ig=-1,\n",
    " /\n",
    "&wt type='TEMP0', istep1=0, istep2=9000, value1=0.0, value2=300.0 /\n",
    "&wt type='TEMP0', istep1=9001, istep2=10000, value1=300.0, value2=300.0 /\n",
    "&wt type='END' /"
   ]
  },
  {
   "cell_type": "markdown",
   "id": "e1c4ddb1-985a-4059-a359-d0a8ebb4dfe7",
   "metadata": {},
   "source": [
    "The settings can be summarized as follows:\n",
    "```\n",
    "imin=0          Choose a molecular dynamics (MD) run [no minimization]\n",
    "nstlim=10000    Number of MD steps in run (nstlim * dt = run length in ps)\n",
    "dt=0.002        Time step in picoseconds (ps). The time length of each MD step\n",
    "ntf=2           Setting to not calculate force for SHAKE constrained bonds\n",
    "ntc=2           Enable SHAKE to constrain all bonds involving hydrogen\n",
    "tempi=0.0       Initial thermostat temperature in K (see NMROPT section)\n",
    "temp0=300.0     Final thermostat temperature in K (see NMROPT section)\n",
    "ntwx=1000       Write Amber trajectory file mdcrd every ntwx steps\n",
    "ntb=1           Periodic boundaries for constant volume\n",
    "ntp=0           No pressure control\n",
    "ntt=3           Temperature control with Langevin thermostat\n",
    "gamma_ln=2.0    Langevin thermostat collision frequency\n",
    "nmropt=1        NMR restraints and weight changes read (see NMROPT section)\n",
    "ig=-1           Randomize the seed for the pseudo-random number generator [always a good idea unless you are debugging a simulation problem]\n",
    "```\n",
    "\n",
    "For more information on heating, please take a look at the Temperature regulation subsection on page 393 of the [Amber 2024 Manual](https://ambermd.org/doc12/Amber24.pdf#page=393).   "
   ]
  },
  {
   "cell_type": "markdown",
   "id": "b05e1d5a-2bd9-422f-b470-889293f32b0e",
   "metadata": {},
   "source": [
    "The final three lines allow the thermostat to change its target temperature throughout the simulation. For the first 9000 steps, the temperature will increase from 0 K to 300 K. For steps 9001 to 10000, the temperature will remain at 300 K. "
   ]
  },
  {
   "cell_type": "markdown",
   "id": "ef691f68-4afd-4223-bb8a-7a0f7085c7c0",
   "metadata": {},
   "source": [
    "### Production input"
   ]
  },
  {
   "cell_type": "markdown",
   "id": "10301888-c567-4a25-8924-140b23d30f41",
   "metadata": {},
   "source": [
    "Warning:\n",
    "By itself, this input file is not intended for general MD simulations.\n",
    "\n",
    "NTPR and NTWX are set very low so that it is possible to analyze this short simulation. Using these settings for longer MD simulations will create very large output and trajectory files and will be slower than regular MD. For real production MD, you'll need to increase NTPR and NTWX.\n",
    "\n",
    "The production time of this simulation will be 10 ns. Using a time step (dt) of 0.002 ps, a nstlim value of 5000000 will give us this simulation time.\n",
    "\n"
   ]
  },
  {
   "cell_type": "code",
   "execution_count": 7,
   "id": "17fd3ce2-3a30-4140-8142-3c144f7b87be",
   "metadata": {},
   "outputs": [
    {
     "name": "stdout",
     "output_type": "stream",
     "text": [
      "Writing 03_Prod.in\n"
     ]
    }
   ],
   "source": [
    "%%writefile 03_Prod.in  \n",
    "Production\n",
    " &cntrl\n",
    "  imin=0,\n",
    "  ntx=5,\n",
    "  irest=1,\n",
    "  nstlim=5000000,\n",
    "  dt=0.002,\n",
    "  ntf=2,\n",
    "  ntc=2,\n",
    "  temp0=300.0,\n",
    "  ntpr=100,\n",
    "  ntwx=100,\n",
    "  cut=8.0,\n",
    "  ntb=2,\n",
    "  ntp=1,\n",
    "  ntt=3,\n",
    "  barostat=1,\n",
    "  gamma_ln=2.0,\n",
    "  ig=-1,\n",
    " /"
   ]
  },
  {
   "cell_type": "markdown",
   "id": "3a7bd75e-f53f-4d5f-8c64-8e440c1f3636",
   "metadata": {},
   "source": [
    "The settings for production can be summarized as follows:\n",
    "```\n",
    "ntx=5           Read coordinates and velocities from unformatted rst7 coordinate file\n",
    "irest=1         Restart previous MD run [This means velocities are expected in the rst7 file and will be used to provide initial atom velocities]\n",
    "temp0=300.0     Thermostat temperature. Run at 300K\n",
    "ntb=2           Use periodic boundary conditions with constant pressure\n",
    "barostat=1      Use the Berendsen barostat for constant pressure simulation\n",
    "```\n",
    "\n",
    "For more information on pressure control, please take a look at the Pressure regulation subsection on page 395 of the [Amber 2024 Manual](https://ambermd.org/doc12/Amber24.pdf#page=395)."
   ]
  },
  {
   "cell_type": "markdown",
   "id": "1c58011b-7d2f-4953-a4e6-d9e436f38b85",
   "metadata": {
    "jp-MarkdownHeadingCollapsed": true
   },
   "source": [
    "## 3. Run Amber MD Simulation"
   ]
  },
  {
   "cell_type": "markdown",
   "id": "4d4866fb-860b-4fe6-a5fe-90409d8cdc84",
   "metadata": {},
   "source": [
    "Now that we have all the ingredients: the parameter and topology file `parm7`, the coordinate file `rst7`, and the input files `01_Min.in`, `02_Heat.in`, `03_Prod.in`, we are ready to run the actual minimization, heating, and production MD.\n",
    "\n",
    "To do this, we will use the program pmemd which is run from the command line. On the command line, we can specify several more options and choose which files are to be used for input."
   ]
  },
  {
   "cell_type": "markdown",
   "id": "bc41b0f1-e673-4eed-b97a-1f13752187c2",
   "metadata": {},
   "source": [
    "### Run minimization"
   ]
  },
  {
   "cell_type": "code",
   "execution_count": 14,
   "id": "9e89038e-ba32-443f-9591-2f667b4ed72c",
   "metadata": {},
   "outputs": [
    {
     "name": "stdout",
     "output_type": "stream",
     "text": [
      "Warning: When compiling code please add the following flags to nvcc:\n",
      "         -gencode arch=compute_61,code=[compute_61,sm_61] \n",
      "         -gencode arch=compute_70,code=[compute_70,sm_70] \n",
      "         -gencode arch=compute_89,code=[compute_89,sm_89] \n",
      "If running on TEACH cluster:         -arch=sm_52 \n"
     ]
    }
   ],
   "source": [
    "!module load gcc/10.2.0 openmpi/4.1.1 amber/24 &&\\\n",
    "sander -O -i 01_Min.in -o 01_Min.out -p diala.parm7 -c rst7 -r 01_Min.ncrst \\\n",
    "-inf 01_Min.mdinfo"
   ]
  },
  {
   "cell_type": "markdown",
   "id": "c204a0ce-1468-4177-94b3-4562efed5e71",
   "metadata": {},
   "source": [
    "`sander` uses a consistent syntax for each step of MD simulation. Here is a summary of the command line options of sander:\n",
    "```\n",
    "-O\n",
    "\tOverwrite the output files if they already exist\n",
    "-i 01_Min.in\n",
    "\tChoose input file (default mdin)\n",
    "-o 01_Min.out\n",
    "\tWrite output file (default mdout)\n",
    "-p parm7\n",
    "\tChoose parameter and topology file parm7\n",
    "-c rst7\n",
    "\tChoose coordinate file rst7\n",
    "-r 01_Min.ncrst\n",
    "\tWrite output restart file with coordinates and velocities (default restrt)\n",
    "-inf 01_Min.mdinfo\n",
    "\tWrite MD info file with simulation status (default mdinfo)\n",
    "```\n",
    "\n",
    "To learn more about syntax when using sander, please look at Section 21.2 of the [Amber 2024 Manual](https://ambermd.org/doc12/Amber24.pdf#page=384).\n",
    "\n",
    "`sander` should complete the minimization in a moderate amount of time (~ 30 seconds) depending on your computer specifications.\n",
    "\n",
    "After `sander` completes, there should be an output file `01_Min.out`, a restart file `01_Min.ncrst`, and a MD info file `01_Min.mdinfo`. You will use the restart file `01_Min.ncrst` for the heating of the system."
   ]
  },
  {
   "cell_type": "markdown",
   "id": "b6408044-4914-4d18-afed-224be9264cb0",
   "metadata": {},
   "source": [
    "#### Minimization output files"
   ]
  },
  {
   "cell_type": "markdown",
   "id": "2be7a4a5-faf8-4d83-b855-cf484cc998d4",
   "metadata": {},
   "source": [
    "Sample output files are located in `sample_files`:\n",
    "```\n",
    "sample_files/01_Min.out\n",
    "sample_files/01_min.ncrst\n",
    "```\n",
    "\n",
    "In the `01_Min.out` file, you will find the details of your minimization. You should be able to see the system energy ENERGY decrease throughout the minimization."
   ]
  },
  {
   "cell_type": "markdown",
   "id": "ebb1b761-8b01-4387-b771-b904535a469a",
   "metadata": {},
   "source": [
    "### Run heating MD"
   ]
  },
  {
   "cell_type": "code",
   "execution_count": 23,
   "id": "c3a0a908-2f58-4e24-945c-f3239fc8c5e7",
   "metadata": {},
   "outputs": [
    {
     "name": "stdout",
     "output_type": "stream",
     "text": [
      "Warning: When compiling code please add the following flags to nvcc:\n",
      "         -gencode arch=compute_61,code=[compute_61,sm_61] \n",
      "         -gencode arch=compute_70,code=[compute_70,sm_70] \n",
      "         -gencode arch=compute_89,code=[compute_89,sm_89] \n",
      "If running on TEACH cluster:         -arch=sm_52 \n",
      "\n",
      "  Error opening unit    8: File \"ala.parm7\" is missing or unreadable                \n"
     ]
    }
   ],
   "source": [
    "!module load gcc/10.2.0 openmpi/4.1.1 amber/24 &&\\\n",
    "sander -O -i 02_Heat.in -o 02_Heat.out -p ala.parm7 -c 01_Min.ncrst \\\n",
    "-r 02_Heat.ncrst -x 02_Heat.nc -inf 02_Heat.mdinfo"
   ]
  },
  {
   "cell_type": "markdown",
   "id": "f1fc7cbc-ab17-4201-ad21-f9aa8e9167e3",
   "metadata": {},
   "source": [
    "Here is a summary of the command line options for `sander`:\n",
    "```\n",
    "-c 01_Min.ncrst\n",
    "\tNow for the input coordinates we choose the restart file from minimization\n",
    "-x 02_Heat.nc\n",
    "\tOutput trajectory file for MD simulation (default nc)\n",
    "```\n",
    "sander should complete the heating in a moderate amount of time (~ 2.5 mins) depending on your computer specifications. "
   ]
  },
  {
   "cell_type": "markdown",
   "id": "948c5dec-e114-4a68-8fa1-48745f6e1045",
   "metadata": {},
   "source": [
    "#### Heating output files"
   ]
  },
  {
   "cell_type": "markdown",
   "id": "171efddc-6e39-4645-975c-c6f1360975af",
   "metadata": {},
   "source": [
    "Sample output files are located in `sample_files`:\n",
    "```\n",
    "sample_files/01_Min.out\n",
    "sample_files/01_min.ncrst\n",
    "```\n"
   ]
  },
  {
   "cell_type": "markdown",
   "id": "fd3daabd-5e05-4c76-b7a0-b2fa9b0fc2bc",
   "metadata": {},
   "source": [
    "\n",
    "In the `02_Heat.out` file you will find the output from the heating MD. You should be able to see system information including timestep energies, and temperature. For example on the 1000 time step:\n",
    "\n",
    "```\n",
    "NSTEP =     1000   TIME(PS) =       2.000  TEMP(K) =    30.80  PRESS =     0.0\n",
    " Etot   =     -9636.4025  EKtot   =       130.0070  EPtot      =     -9766.4095\n",
    " BOND   =        0.5896   ANGLE   =         1.6788  DIHED      =         2.6834\n",
    " 1-4 NB =         2.8404  1-4 EEL =        45.1563  VDWAALS    =      1584.9308\n",
    " EELEC  =     -11403.7559 EHBOND  =         0.0000  RESTRAINT  =         0.0000\n",
    " CMAP   =         -0.5328\n",
    " Ewald error estimate:   0.4716E-03\n",
    " ------------------------------------------------------------------------------\n",
    "\n",
    " NMR restraints: Bond =    0.000   Angle =     0.000   Torsion =     0.000\n",
    "===============================================================================\n",
    "```"
   ]
  },
  {
   "cell_type": "markdown",
   "id": "c8812ade-965c-4fef-8531-67402477a658",
   "metadata": {},
   "source": [
    "Some of the important values include:\n",
    "```\n",
    "NSTEP     The time step that the MD simulation is at\n",
    "TIME      The total time of the simulation (including restarts)\n",
    "TEMP      System temperature\n",
    "PRESS     System pressure\n",
    "Etot      Total energy of the system\n",
    "EKtot     Total kinetic energy of the system\n",
    "EPtot     Total potential energy of the system\n",
    "```\n",
    "\n",
    "Note that the pressure is 0.0 because the barostat (pressure control) is not being used in the heating.\n"
   ]
  },
  {
   "cell_type": "markdown",
   "id": "2ba885ac-368d-4162-b0a5-3abf6062074f",
   "metadata": {},
   "source": [
    "### Run production MD"
   ]
  },
  {
   "cell_type": "code",
   "execution_count": null,
   "id": "e1bb57f1-9b44-4c18-bba6-fb15e9f7d0b1",
   "metadata": {},
   "outputs": [],
   "source": [
    "!module load gcc/10.2.0 openmpi/4.1.1 amber/24 &&\\\n",
    "pmemd.cuda -O -i 03_Prod.in -o 03_Prod.out -p ala.parm7 -c 02_Heat.ncrst \\ \n",
    "-r 03_Prod.ncrst -x 03_Prod.nc -inf 03_Prod.info"
   ]
  },
  {
   "cell_type": "markdown",
   "id": "ae05c243-ce3a-4d09-99f7-e87b136085ac",
   "metadata": {
    "jp-MarkdownHeadingCollapsed": true
   },
   "source": [
    "## 4. Visualize the results"
   ]
  },
  {
   "cell_type": "markdown",
   "id": "c56d9934-0ca3-41fd-bcab-aeddfd208a9b",
   "metadata": {},
   "source": [
    "You've now run an MD simulation. In order to visualize the results, we will now use a python package called `nglview`. This is a molecular graphics program that can render molecular structures in 3D. `nglview` not only loads Protein Database (PDB) structure files, but also MD trajectories from many programs.\n",
    "\n",
    "Another commonly used progam for visualization is `vmd`, but that is not available through Jupyter Notebooks."
   ]
  },
  {
   "cell_type": "markdown",
   "id": "11654667-c447-48d6-b29e-3806176e8b17",
   "metadata": {},
   "source": [
    "We will first load in the trajectory using a program called `mdtraj`, and then have `nglview` visualize your `mdtraj` trajectory. You should be able to see the alanine dipeptide molecule in the display. You can rotate, zoom and pan the molecules around the display with the mouse. You can press the \"play\" button to see how the trajectory evolve over time."
   ]
  },
  {
   "cell_type": "code",
   "execution_count": 126,
   "id": "408cff98-ca35-4f79-aa6c-a65ada9e5d52",
   "metadata": {},
   "outputs": [
    {
     "data": {
      "application/vnd.jupyter.widget-view+json": {
       "model_id": "44d6e1a140364500a027a1f3350ec07c",
       "version_major": 2,
       "version_minor": 0
      },
      "text/plain": [
       "NGLWidget(max_frame=99)"
      ]
     },
     "metadata": {},
     "output_type": "display_data"
    }
   ],
   "source": [
    "import numpy\n",
    "import mdtraj\n",
    "import nglview\n",
    "\n",
    "# Loading in the trajectory\n",
    "# Use the second line to read from sample_files instead.\n",
    "a = mdtraj.load('02_Heat.nc', top='diala.parm7')\n",
    "# a = mdtraj.load('sample_files/02_Heat.nc', top='diala.parm7')\n",
    "\n",
    "\n",
    "# Passing the MDTraj trajectory to nglview\n",
    "view = nglview.show_mdtraj(a)\n",
    "\n",
    "# Display both protein and the water\n",
    "view.representations = [\n",
    "    {\"type\": \"ball+stick\", \"params\": {\n",
    "        \"sele\": \"protein\",\n",
    "    }}\n",
    "]\n",
    "\n",
    "# Finally, show us the visualization\n",
    "view"
   ]
  },
  {
   "cell_type": "markdown",
   "id": "a0280e17-72ff-4a74-aadd-50d9ab196ac7",
   "metadata": {},
   "source": [
    "In the next cell, we will see the protein with the water. Notice that in the previous cell, the peptide is moving around the screen? Sometimes, we just want to see how the solvent change relative to the peptide. To do that, we will attempt to superpose (align) the peptide of all the frames to the peptide of the first frame. That way, we can just see the movement of the water relative to a static peptide. "
   ]
  },
  {
   "cell_type": "code",
   "execution_count": 121,
   "id": "558242d6-bb8e-48c2-8af6-4298e07ae2a9",
   "metadata": {},
   "outputs": [
    {
     "data": {
      "application/vnd.jupyter.widget-view+json": {
       "model_id": "fed5eedcf119438a94b1d14c440d3187",
       "version_major": 2,
       "version_minor": 0
      },
      "text/plain": [
       "NGLWidget(max_frame=99)"
      ]
     },
     "metadata": {},
     "output_type": "display_data"
    }
   ],
   "source": [
    "import numpy\n",
    "import mdtraj\n",
    "import nglview\n",
    "\n",
    "# Loading in the trajectory\n",
    "# Use the second line to read from sample_files instead.\n",
    "a = mdtraj.load('02_Heat.nc', top='diala.parm7')\n",
    "# a = mdtraj.load('sample_files/02_Heat.nc', top='diala.parm7')\n",
    "\n",
    "# Aligning the peptide to the first frame\n",
    "diala_indices = a.topology.select('protein')\n",
    "a = a.superpose(a, atom_indices=diala_indices)\n",
    "\n",
    "# Passing the MDTraj trajectory to nglview\n",
    "view2 = nglview.show_mdtraj(a)\n",
    "\n",
    "# Display both protein and the water\n",
    "view2.representations = [\n",
    "    {\"type\": \"licorice\", \"params\": {\n",
    "        \"sele\": \"protein\",\n",
    "    }},\n",
    "    {\"type\": \"line\", \"params\": {\n",
    "        \"sele\": \"water\"\n",
    "    }},\n",
    "]\n",
    "\n",
    "# Finally, show us the visualization\n",
    "view2.center('protein')\n",
    "view2.control.zoom(-1.75)  # Zoom out.\n",
    "view2"
   ]
  },
  {
   "cell_type": "markdown",
   "id": "640e2e97-068f-49d0-b29c-43ff2c7a536e",
   "metadata": {
    "jp-MarkdownHeadingCollapsed": true
   },
   "source": [
    "## 5. Analyze the MD results"
   ]
  },
  {
   "cell_type": "markdown",
   "id": "70b0684c-d5bd-42f0-9d90-1cbce3eafb4c",
   "metadata": {},
   "source": [
    "Amber includes a suite of tools to examine and analyze MD trajectories. In this tutorial, we will do a simple analysis with a script to analyze thermodynamic parameters and an introductory analysis with `mdtraj`.\n"
   ]
  },
  {
   "cell_type": "markdown",
   "id": "a20f3d7d-87b5-45a0-8da1-0e4fa216d8a7",
   "metadata": {},
   "source": [
    "In the next cell, we will create a folder called `ANALYSIS`. Inside, we will run `process_mdout.perl`, an AMBER tool that extracts summaries and time evolution of different observerables from our output files.\n",
    "\n",
    "The `summary.*` files will typically contain two columns: one for the time step, and the column shows the observable. Do note that the `summary.DENSITY` output is currently broken."
   ]
  },
  {
   "cell_type": "code",
   "execution_count": null,
   "id": "174942ea-84c5-43e5-85fe-284468383019",
   "metadata": {},
   "outputs": [],
   "source": [
    "# This cell uses your output files generated from your own simulations.\n",
    "! module load gcc/10.2.0 openmpi/4.1.1 amber/24 &&\\\n",
    "mkdir -p ANALYSIS && cd ANALYSIS &&\\\n",
    "process_mdout.perl ../02_Heat.out ../03_Prod.out"
   ]
  },
  {
   "cell_type": "code",
   "execution_count": null,
   "id": "8854e6cf-02a2-44de-8c50-8d90aafc1847",
   "metadata": {},
   "outputs": [],
   "source": [
    "# This cell uses the sample files in sample_files.\n",
    "! module load gcc/10.2.0 openmpi/4.1.1 amber/24 &&\\\n",
    "mkdir -p ANALYSIS && cd ANALYSIS &&\\\n",
    "process_mdout.perl ../sample_files/02_Heat.out ../sample_files/03_Prod.out"
   ]
  },
  {
   "cell_type": "markdown",
   "id": "0cf3d733-06b8-4606-ba43-df10a18bf0da",
   "metadata": {},
   "source": [
    "We will then plot the temperature and energy evolution using `matplotlib`.  The resulting plots should look similar to these:"
   ]
  },
  {
   "cell_type": "code",
   "execution_count": 62,
   "id": "4b68480c-3811-443e-b500-125514098db1",
   "metadata": {},
   "outputs": [
    {
     "data": {
      "image/png": "[encoded data removed]",
      "text/plain": [
       "<Figure size 640x480 with 1 Axes>"
      ]
     },
     "metadata": {},
     "output_type": "display_data"
    }
   ],
   "source": [
    "import matplotlib as mpl\n",
    "import matplotlib.pyplot as plt\n",
    "import numpy as np\n",
    "temp = np.loadtxt('ANALYSIS/summary.TEMP')\n",
    "plt.plot(temp[:,0], temp[:,1])\n",
    "plt.title('Alanine Dipeptide MD Temperature')\n",
    "plt.ylabel('temperature (K)')\n",
    "plt.xlabel('time (ps)')\n",
    "plt.xlim(0, 100);"
   ]
  },
  {
   "cell_type": "markdown",
   "id": "8ab4627e-0dac-4bb2-9359-7ce234084e4f",
   "metadata": {},
   "source": [
    "Note that the system energy changes drastically at the start (due to the gradual heating) before stablizing. "
   ]
  },
  {
   "cell_type": "code",
   "execution_count": 96,
   "id": "6246843f-ba89-4dce-bfcc-e8615b0f75d5",
   "metadata": {},
   "outputs": [
    {
     "data": {
      "image/png": "[encoded data removed]",
      "text/plain": [
       "<Figure size 640x480 with 1 Axes>"
      ]
     },
     "metadata": {},
     "output_type": "display_data"
    }
   ],
   "source": [
    "import matplotlib as mpl\n",
    "import matplotlib.pyplot as plt\n",
    "import numpy as np\n",
    "etot = np.loadtxt('ANALYSIS/summary.ETOT')\n",
    "ektot = np.loadtxt('ANALYSIS/summary.EKTOT')\n",
    "eptot = np.loadtxt('ANALYSIS/summary.EPTOT')\n",
    "\n",
    "for y, label in zip([etot[:,1], ektot[:,1], eptot[:,1]],['ETOT', 'EKTOT', 'EPTOT']) :\n",
    "    plt.plot(etot[:,0], y, label=label)\n",
    "plt.title('Alanine Dipeptide MD Density')\n",
    "plt.ylabel('energy (kcal/mol)')\n",
    "plt.xlabel('time (ps)')\n",
    "plt.legend()\n",
    "plt.xlim(0, 100);"
   ]
  },
  {
   "cell_type": "markdown",
   "id": "97ffe2dc-a9c9-4ae8-ad97-85b8c1af4cbb",
   "metadata": {},
   "source": [
    "Next, we will use `MDTraj` to analyze the RMSD.\n",
    "\n",
    "The root mean squared deviation (RMSD) value is a measurement of how similar a structure's internal atomic coordinates are relative to some reference molecule coordinates. For this example, we will measure how the internal atomic coordinates change relative to the minimized structure. Specifically, we will analyze the alanine atoms (residue 2).\n",
    "\n",
    "To do this analysis, we will use mdtraj, a fairly comprehensive analysis program for processing MD trajectories. This program runs python functions that choose what trajectories to load, what analysis to run, and what processed trajectories or structure to save."
   ]
  },
  {
   "cell_type": "code",
   "execution_count": 122,
   "id": "14c64bbb-011a-41b4-ae76-74736b43de69",
   "metadata": {},
   "outputs": [],
   "source": [
    "import mdtraj\n",
    "a = mdtraj.load(['sample_files/02_Heat.nc'], top='diala.parm7') # Load the first\n",
    "ref = mdtraj.load('sample_files/01_Min.ncrst', top='diala.parm7')\n",
    "a = a.image_molecules()  # Make sure our system is imaged, for solving cases where parts of our protein might be poking off the side of our periodic box, reappearing on the other side \n",
    "diala_indices = a.topology.select('resid 2') # Looking at Residue 2, which is ALA\n",
    "a = a.superpose(ref, atom_indices=diala_indices)  # aligning to first frame\n",
    "rmsd = mdtraj.rmsd(a, ref, atom_indices=diala_indices)*10 # to get everything in Angstrom"
   ]
  },
  {
   "cell_type": "code",
   "execution_count": 125,
   "id": "ddf55530-2adb-48e4-a65c-0589ec0f4f16",
   "metadata": {},
   "outputs": [
    {
     "data": {
      "image/png": "[encoded data removed]",
      "text/plain": [
       "<Figure size 640x480 with 1 Axes>"
      ]
     },
     "metadata": {},
     "output_type": "display_data"
    }
   ],
   "source": [
    "import matplotlib as mpl\n",
    "import matplotlib.pyplot as plt\n",
    "import numpy as np\n",
    "plt.plot(rmsd)\n",
    "plt.title('Alanine Dipeptide Alanine atoms RMSD relative to Minimized Structure')\n",
    "plt.ylabel(r'RMSD ($\\AA$)')\n",
    "plt.xlabel('time (ps)')\n",
    "plt.xlim(0, 100);"
   ]
  },
  {
   "cell_type": "markdown",
   "id": "c1054c55-a62c-4063-b689-2111e5bc678e",
   "metadata": {},
   "source": [
    "In this example, there is no significant conformational change in the positions of the alanine dipeptide atoms relative to the starting structure. "
   ]
  },
  {
   "cell_type": "markdown",
   "id": "745c6d74-db66-46aa-a3d3-20f4ae166d49",
   "metadata": {},
   "source": [
    "## Conclusion"
   ]
  },
  {
   "cell_type": "markdown",
   "id": "b19abb33-1fd2-49d5-bb29-87ba2c2659f0",
   "metadata": {},
   "source": [
    "Congratulations. You've now run your first complete MD simulation and successfully analyzed the results. This is a fairly simple example of the workflow for setting up, running, and analyzing your own MD simulation. If you want to learn more you are encouraged to complete the additional tutorials on the AMBER website."
   ]
  }
 ],
 "metadata": {
  "kernelspec": {
   "display_name": "drug-design2025",
   "language": "python",
   "name": "drug-design2025"
  },
  "language_info": {
   "codemirror_mode": {
    "name": "ipython",
    "version": 3
   },
   "file_extension": ".py",
   "mimetype": "text/x-python",
   "name": "python",
   "nbconvert_exporter": "python",
   "pygments_lexer": "ipython3",
   "version": "3.11.5"
  }
 },
 "nbformat": 4,
 "nbformat_minor": 5
}
